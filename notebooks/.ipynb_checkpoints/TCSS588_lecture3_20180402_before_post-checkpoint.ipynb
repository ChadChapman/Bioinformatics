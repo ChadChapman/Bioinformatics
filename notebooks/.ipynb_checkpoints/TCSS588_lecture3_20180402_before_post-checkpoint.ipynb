{
 "cells": [
  {
   "cell_type": "markdown",
   "metadata": {},
   "source": [
    "# TCSS 588 In-class Exercise: Correlation and linear regression"
   ]
  },
  {
   "cell_type": "markdown",
   "metadata": {},
   "source": [
    "These exercises will be used to illustrate how to perform data analyses using R.\n",
    "Alternatively, you can use R or Rstudio. \n",
    "I assume you will learn basic R commands on your own.\n",
    "\n",
    "Credit: The data and ideas behind these exercises and homeworks are from the NIH LINCS DCIC Crowdsourcing Portal and Ma’ayan Lab @ Mt Sinai, New York.\n",
    "http://www.maayanlab.net/crowdsourcing/megatask1.php\n",
    "\n",
    "The overarching goal is to predict adverse drug reactions. But we will take this task step by step. You will learn more about the meanings of these data in future lectures. For illustrative purposes in today’s class, just treat these data as numbers in a matrix."
   ]
  },
  {
   "cell_type": "markdown",
   "metadata": {},
   "source": [
    "## 1. Download and read in data (same as lecture 2)\n",
    "Download the data “gene_expression_n438x978.txt” from canvas to your computer.  I have removed the first character (#) and an ‘ from the input file to make R happy."
   ]
  },
  {
   "cell_type": "code",
   "execution_count": 6,
   "metadata": {},
   "outputs": [
    {
     "name": "stderr",
     "output_type": "stream",
     "text": [
      "Warning message in file(file, \"rt\"):\n",
      "“cannot open file '.gene_expression_n438x978.txt': No such file or directory”"
     ]
    },
    {
     "ename": "ERROR",
     "evalue": "Error in file(file, \"rt\"): cannot open the connection\n",
     "output_type": "error",
     "traceback": [
      "Error in file(file, \"rt\"): cannot open the connection\nTraceback:\n",
      "1. read.table(\".gene_expression_n438x978.txt\", sep = \"\\t\", header = T)",
      "2. file(file, \"rt\")"
     ]
    }
   ],
   "source": [
    "my.data <- read.table (\".gene_expression_n438x978.txt\", sep=\"\\t\", header=T)\n",
    "dimnames(my.data)[[1]] <- my.data[,1]\n",
    "my.data <- my.data[, -1]\n",
    "dim (my.data)\n",
    "my.data[1:5, 1:5]"
   ]
  },
  {
   "cell_type": "markdown",
   "metadata": {
    "collapsed": true
   },
   "source": [
    "## 2. Correlation (same as lecture)"
   ]
  },
  {
   "cell_type": "code",
   "execution_count": null,
   "metadata": {},
   "outputs": [],
   "source": [
    "cor (my.data[,1], my.data[, 2])"
   ]
  },
  {
   "cell_type": "markdown",
   "metadata": {},
   "source": [
    "## 3. Pairwis correlation\n",
    "\n",
    "_Your task 1:_ What is the maximum correlation coefficient among all possible pairs of genes?  How about the minimum correlation?  \n",
    "\n",
    "_Q:_ Can you get away from doing a double nested loop in R?\n",
    "Discuss with your neighbors.\n",
    "\n",
    "Note that the total number of possible gene pairs = 978*977/2 = 477,753\n",
    "\n",
    "_Your task 2:_ write a R script. For computationally intensive tasks, you might want to consider running your R code in batch mode.  https://www.r-bloggers.com/batch-processing-vs-interactive-sessions/\n",
    "\n",
    "Hint: There are many ways to do this. You can use a loop or you might want to check out\n",
    "http://www.r-bloggers.com/using-apply-sapply-lapply-in-r/\n"
   ]
  },
  {
   "cell_type": "code",
   "execution_count": null,
   "metadata": {},
   "outputs": [],
   "source": [
    "curr.max <- -1\n",
    "curr.min <-1\n",
    "for (i in 1:ncol(my.data)) {\n",
    "    for(j in 1:nrows(my.data)) {\n",
    "    ret.cor <- cor (my.data[,i], my.data[,j])\n",
    "    curr.max <- max(c(curr.max, ret.cor))\n",
    "    curr.min <- min(c(curr.min, ret.cor))\n",
    "}\n",
    "}"
   ]
  },
  {
   "cell_type": "code",
   "execution_count": 3,
   "metadata": {},
   "outputs": [],
   "source": [
    "help (lm)"
   ]
  },
  {
   "cell_type": "code",
   "execution_count": null,
   "metadata": {},
   "outputs": [],
   "source": []
  }
 ],
 "metadata": {
  "kernelspec": {
   "display_name": "R",
   "language": "R",
   "name": "ir"
  },
  "language_info": {
   "codemirror_mode": "r",
   "file_extension": ".r",
   "mimetype": "text/x-r-source",
   "name": "R",
   "pygments_lexer": "r",
   "version": "3.4.3"
  }
 },
 "nbformat": 4,
 "nbformat_minor": 2
}
